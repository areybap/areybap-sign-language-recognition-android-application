{
 "cells": [
  {
   "cell_type": "code",
   "execution_count": 1,
   "id": "d73d485b",
   "metadata": {},
   "outputs": [],
   "source": [
    "import torch\n",
    "from IPython.display import Image "
   ]
  },
  {
   "cell_type": "code",
   "execution_count": 2,
   "id": "22701882",
   "metadata": {},
   "outputs": [
    {
     "name": "stdout",
     "output_type": "stream",
     "text": [
      "E:\\anaconda\\envs\\yolov5\\1projectshit\\project\\yolov5-master\n"
     ]
    }
   ],
   "source": [
    "%cd yolov5-master\n"
   ]
  },
  {
   "cell_type": "code",
   "execution_count": 3,
   "id": "e30e9b74",
   "metadata": {},
   "outputs": [],
   "source": [
    "from tqdm import tqdm\n",
    "import IProgress \n",
    "from ipywidgets import IntProgress"
   ]
  },
  {
   "cell_type": "code",
   "execution_count": 4,
   "id": "c4c13d95",
   "metadata": {},
   "outputs": [
    {
     "name": "stdout",
     "output_type": "stream",
     "text": [
      "All set. Using PyTorch version 1.8.2 with _CudaDeviceProperties(name='NVIDIA GeForce GTX 1650', major=7, minor=5, total_memory=4095MB, multi_processor_count=16)\n"
     ]
    }
   ],
   "source": [
    "print('All set. Using PyTorch version %s with %s' % (torch.__version__, torch.cuda.get_device_properties(0) if torch.cuda.is_available() else 'CPU'))"
   ]
  },
  {
   "cell_type": "code",
   "execution_count": null,
   "id": "9a7f5094",
   "metadata": {
    "scrolled": false
   },
   "outputs": [],
   "source": [
    "!python train.py --img 416 --batch 3 --epochs 20 --data dataset.yaml --weights yolov5s.pt --cache --device 0 --workers=4"
   ]
  },
  {
   "cell_type": "code",
   "execution_count": null,
   "id": "6b0ef14f",
   "metadata": {},
   "outputs": [],
   "source": []
  }
 ],
 "metadata": {
  "kernelspec": {
   "display_name": "yolov5",
   "language": "python",
   "name": "yolov5"
  },
  "language_info": {
   "codemirror_mode": {
    "name": "ipython",
    "version": 3
   },
   "file_extension": ".py",
   "mimetype": "text/x-python",
   "name": "python",
   "nbconvert_exporter": "python",
   "pygments_lexer": "ipython3",
   "version": "3.8.0"
  }
 },
 "nbformat": 4,
 "nbformat_minor": 5
}
